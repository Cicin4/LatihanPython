{
 "cells": [
  {
   "cell_type": "code",
   "execution_count": 1,
   "id": "441c93fe-4e95-4ba7-b0e4-c359c9365b0b",
   "metadata": {},
   "outputs": [
    {
     "name": "stdout",
     "output_type": "stream",
     "text": [
      "{'Count': '31', 'RetMax': '20', 'RetStart': '0', 'IdList': ['2076548881', '2033006643', '1985850408', '147900661', '1817896250', '1542894952', '1542894950', '1542894948', '1531435434', '1378962596', '1387219410', '1387219409', '1387219408', '1215482763', '1131196015', '1127425688', '270038456', '146186491', '299801607', '299801605'], 'TranslationSet': [{'From': 'Bos taurus', 'To': '\"Bos taurus\"[Organism] OR Bos taurus[All Fields]'}], 'TranslationStack': [{'Term': '\"Bos taurus\"[Organism]', 'Field': 'Organism', 'Count': '2346571', 'Explode': 'Y'}, {'Term': 'Bos taurus[All Fields]', 'Field': 'All Fields', 'Count': '3561109', 'Explode': 'N'}, 'OR', 'GROUP', {'Term': 'FTO[All Fields]', 'Field': 'All Fields', 'Count': '2783', 'Explode': 'N'}, 'AND', 'GROUP'], 'QueryTranslation': '(\"Bos taurus\"[Organism] OR Bos taurus[All Fields]) AND FTO[All Fields]'}\n"
     ]
    }
   ],
   "source": [
    "#Code 1\n",
    "\n",
    "from Bio import Entrez\n",
    "\n",
    "Entrez.email = \"localuser@localhost.localdomain\" #Mandatory! Can be replaced with your personal email.\n",
    "\n",
    "#creating handle\n",
    "\n",
    "handle = Entrez.esearch(db=\"nuccore\", term=\"Bos taurus FTO\")\n",
    "\n",
    "record = Entrez.read(handle)\n",
    "\n",
    "print(record)\n",
    "\n",
    "handle.close() #always close your handle after you finish"
   ]
  },
  {
   "cell_type": "code",
   "execution_count": 2,
   "id": "673df007-6678-473a-aae6-2c765eacdf4e",
   "metadata": {},
   "outputs": [
    {
     "name": "stdout",
     "output_type": "stream",
     "text": [
      "LOCUS       GQ372982                 248 bp    DNA     linear   MAM 06-OCT-2011\n",
      "DEFINITION  Bos taurus isolate jx18 FTO (FTO) gene, exon 7 and partial cds.\n",
      "ACCESSION   GQ372982\n",
      "VERSION     GQ372982.1\n",
      "KEYWORDS    .\n",
      "SOURCE      Bos taurus (cattle)\n",
      "  ORGANISM  Bos taurus\n",
      "            Eukaryota; Metazoa; Chordata; Craniata; Vertebrata; Euteleostomi;\n",
      "            Mammalia; Eutheria; Laurasiatheria; Artiodactyla; Ruminantia;\n",
      "            Pecora; Bovidae; Bovinae; Bos.\n",
      "REFERENCE   1  (bases 1 to 248)\n",
      "  AUTHORS   Zhang,B., Zhang,Y., Zhang,L., Wang,J., Li,Z. and Chen,H.\n",
      "  TITLE     Allelic Polymorphism Detected in the Bovine FTO Gene\n",
      "  JOURNAL   Mol. Biotechnol. 49 (3), 257-262 (2011)\n",
      "   PUBMED   21479694\n",
      "REFERENCE   2  (bases 1 to 248)\n",
      "  AUTHORS   Zhang,B. and Chen,H.\n",
      "  TITLE     Direct Submission\n",
      "  JOURNAL   Submitted (09-JUL-2009) College of Animal Science and Technology,\n",
      "            Northwest A&F University, Yangling, Shaanxi 712100, China\n",
      "FEATURES             Location/Qualifiers\n",
      "     source          1..248\n",
      "                     /organism=\"Bos taurus\"\n",
      "                     /mol_type=\"genomic DNA\"\n",
      "                     /isolate=\"jx18\"\n",
      "                     /db_xref=\"taxon:9913\"\n",
      "                     /chromosome=\"18\"\n",
      "                     /PCR_primers=\"fwd_seq: tactggaggagaactgaat, rev_seq:\n",
      "                     gcacaacatcccaagaaa\"\n",
      "                     /note=\"breed: Jiaxian\"\n",
      "     gene            <1..>248\n",
      "                     /gene=\"FTO\"\n",
      "     misc_difference 58\n",
      "                     /gene=\"FTO\"\n",
      "                     /replace=\"t\"\n",
      "     mRNA            <92..>211\n",
      "                     /gene=\"FTO\"\n",
      "                     /product=\"FTO\"\n",
      "     CDS             <92..>211\n",
      "                     /gene=\"FTO\"\n",
      "                     /codon_start=1\n",
      "                     /product=\"FTO\"\n",
      "                     /protein_id=\"ADJ51677.1\"\n",
      "                     /translation=\"VEFEWLRQFWFQGSRYKKCTDWWCQPMSQLEEMWRKMEWL\"\n",
      "     exon            92..211\n",
      "                     /gene=\"FTO\"\n",
      "                     /number=7\n",
      "ORIGIN      \n",
      "        1 tactggagga gaactgaatg acgaagttca ttgtccttga ttgtccatca tggggacatt\n",
      "       61 ataaccacgg tcttgtcttt atgatcccca ggtcgagttt gaatggctga gacagttttg\n",
      "      121 gtttcaaggc agtcgataca aaaagtgcac tgactggtgg tgtcagccca tgagtcagct\n",
      "      181 ggaagagatg tggagaaaga tggagtggtt ggtaagtatc caggagtgga tttcttggga\n",
      "      241 tgttgtgc\n",
      "//\n",
      "\n",
      "\n"
     ]
    }
   ],
   "source": [
    "efetch_handle = Entrez.efetch(db=\"nuccore\", id=\"299801607\", rettype=\"gb\", retmode=\"text\")\n",
    "gbrecord = efetch_handle.read()\n",
    "print(gbrecord)"
   ]
  },
  {
   "cell_type": "code",
   "execution_count": 3,
   "id": "ab67b0ea-c869-465d-a9c8-74b888916f36",
   "metadata": {},
   "outputs": [
    {
     "name": "stdout",
     "output_type": "stream",
     "text": [
      ">GQ372982.1 Bos taurus isolate jx18 FTO (FTO) gene, exon 7 and partial cds\n",
      "TACTGGAGGAGAACTGAATGACGAAGTTCATTGTCCTTGATTGTCCATCATGGGGACATTATAACCACGG\n",
      "TCTTGTCTTTATGATCCCCAGGTCGAGTTTGAATGGCTGAGACAGTTTTGGTTTCAAGGCAGTCGATACA\n",
      "AAAAGTGCACTGACTGGTGGTGTCAGCCCATGAGTCAGCTGGAAGAGATGTGGAGAAAGATGGAGTGGTT\n",
      "GGTAAGTATCCAGGAGTGGATTTCTTGGGATGTTGTGC\n",
      "\n",
      "\n"
     ]
    }
   ],
   "source": [
    "efetch_handle = Entrez.efetch(db=\"nuccore\", id=\"299801607\", rettype=\"fasta\", retmode=\"text\")\n",
    "gbrecord = efetch_handle.read()\n",
    "print(gbrecord)"
   ]
  },
  {
   "cell_type": "code",
   "execution_count": 4,
   "id": "de791c26-ea62-4209-92bf-0674b3dda64c",
   "metadata": {},
   "outputs": [
    {
     "name": "stdout",
     "output_type": "stream",
     "text": [
      "FASTA Download\n"
     ]
    }
   ],
   "source": [
    "import os\n",
    "\n",
    "#creating EFetch handle\n",
    "filename = \"FTO Bos Taurus.fasta\" #up to you, but FASTA files always use *.fasta or *.fas\n",
    "\n",
    "#creating EFetch handle\n",
    "if not os.path.isfile(filename):\n",
    "    # Downloading file...\n",
    "    efetch_handle = Entrez.efetch(db=\"nuccore\", id=\"299801607\", rettype=\"fasta\", retmode=\"text\")\n",
    "    output_file_handle = open(filename, \"w\")\n",
    "    output_file_handle.write(efetch_handle.read())\n",
    "    output_file_handle.close()\n",
    "    efetch_handle.close()\n",
    "    print(\"FASTA Download\")"
   ]
  },
  {
   "cell_type": "code",
   "execution_count": 5,
   "id": "3026cf88-efa5-4bbb-ad1b-d2192d3254ae",
   "metadata": {},
   "outputs": [
    {
     "name": "stdout",
     "output_type": "stream",
     "text": [
      "GB Downloaded\n"
     ]
    }
   ],
   "source": [
    "#creating EFetch handle\n",
    "filename = \"Bos Taurus complete.gbk\" #up to you, but Genbank files always use *.gb or *.gbk\n",
    "\n",
    "#creating EFetch handle\n",
    "if not os.path.isfile(filename):\n",
    "    # Downloading file...\n",
    "    efetch_handle = Entrez.efetch(db=\"nuccore\", id=\"2076548881\", rettype=\"gb\", retmode=\"text\")\n",
    "    output_file_handle = open(filename, \"w\")\n",
    "    output_file_handle.write(efetch_handle.read())\n",
    "    output_file_handle.close()\n",
    "    efetch_handle.close()\n",
    "    print(\"GB Downloaded\")"
   ]
  },
  {
   "cell_type": "code",
   "execution_count": 7,
   "id": "c2252620-1494-4ee9-9af3-6dfc4906a119",
   "metadata": {},
   "outputs": [
    {
     "name": "stdout",
     "output_type": "stream",
     "text": [
      ">FTO|Galemys pyrenaicus isolate IBE-C5619 2611712, whole genome shotgun sequence\n",
      "CAACAAATTACAGCACACTCACTCTCTCGGAACTCAGGAGAGAGACACTACAATATGACTTACCTGATAAGACTTTCTGTGAAATATCTGTTCTCACGAAATACTGTTAAATACAAACAGGTGAGCAACCATATGAATGTTGGAAGGCCTGTGAGAATTCAACCCTCGGTAAACATCGGAGAACTGTTGAAGGGGAGAAACCTTGTGAGAATCAATATAGTATTAAAATTTTCTCCTGGAACTCAACCCTCAAGCGATATCAGCAAATCCACCCAACCTGTGTGCCTCCTGAGCCTGCGTGACTCGCTGCCCCTGCGGTGCGTCTCTGGCTCTGTCCTGTGCGTCGTGTGTGAGTCTCACCCCTGGAGATCGATGCTGTATTTGGGGTGGGGTGTCAGTTCTCTGGGGTTGGCATCTATCCTGCCGGCCCCCGTCTGGCAGCAGGAGGGCATTGCACGACCAAATGCTGTGGACCAAATGCCTGCTCTGCACAGTGGTGCCCTGTTCCTCTGGGGCATCTGCCCTGGGAGATCCCAGTCTTCCCAAGGGAGGAGGCCCAGAGGGGACACAAGTTTTGACAGAGTTTGTACAGTGAAACCTGACGAGAACACCAGGTTGCAAGAAAGAGCAGCGCCATGGACTGCAGAGAACCCCACAGAGCAGCGTTTCTCAGTGCGTGCCAAGCAGGGAGGGTGGGAAGGGGCAAGTCCAGAAGACGTGGCCACATGGACCTGCTTATCAGTAATGGCTTTCCCAGGTCCTAGCCTTAGCACACTTTGCCTCCTTATGTTACTGGAGATACTCCCTATATATGTAACGATCGCGGGAGACTCACTACAGATGTACCAAATAGGAGAAAATAGTTTTGGAGAAATGAGAAAAATGGATTTTCACAGATATGTTGAACATACACATCATACATGTAATATAAGTGAAATAATTTTAGCACCAAAGAATAGCATACTCACTGTCACGGACTTAGGAGGCAAAAACTTCAATGCGATTTATCTGTTAAGGTTTCATGACATATCTGTTCTCACTAAAGATTATGAAATACAAACAGGTGAACAATCTTATGAGTGTTGGAAGATTTGTGAGAATTCAACGCTCAGCAAACTTGAGAGCACTGTTGCAGGGGAGAAACCTTATGCGTGTAAAAAGGGTCTGAAAACTTTCTCTCGGAAGCCAACTCTGAAGAGACATCAGAAAATGCACACAGATGTGAAACCTTATATTCATAAAGAATGCAGGAAACTT\n"
     ]
    }
   ],
   "source": [
    "from Bio import SeqIO\n",
    "\n",
    "GoI = \"FTO\" #change \" FTO \" here with your GoI\n",
    "\n",
    "for genome in SeqIO.parse(\"Bos Taurus complete.gbk\",\"genbank\"):\n",
    "    for gene in genome.features:\n",
    "        if gene.type != \"CDS\":\n",
    "            continue\n",
    "        if \"gene\" not in gene.qualifiers:\n",
    "            continue\n",
    "        if GoI not in gene.qualifiers[\"gene\"][0]:\n",
    "            continue\n",
    "        gene_seq = gene.extract(genome.seq)\n",
    "\n",
    "GoI_fasta = \">%s|%s\\n%s\" % (GoI, genome.description, gene_seq)\n",
    "print(GoI_fasta)"
   ]
  },
  {
   "cell_type": "code",
   "execution_count": 8,
   "id": "bc580230-640a-46d5-9d11-6bb321869570",
   "metadata": {},
   "outputs": [],
   "source": [
    "from Bio import SeqIO\n",
    "\n",
    "GoI = \"FTO\" \n",
    "\n",
    "for genome in SeqIO.parse(\"Bos taurus complete.gbk\",\"genbank\"):\n",
    "    for gene in genome.features:\n",
    "        if gene.type != \"CDS\":\n",
    "            continue\n",
    "        if \"gene\" not in gene.qualifiers:\n",
    "            continue\n",
    "        if GoI not in gene.qualifiers[\"gene\"][0]:\n",
    "            continue\n",
    "    gene_seq = gene.extract(genome.seq)\n",
    "\n",
    "GoI_fasta = \">%s|%s\\n%s\" % (GoI, genome.description, gene_seq)\n",
    "with open (\"GoI fasta.fasta\",\"w\") as f:\n",
    "    f.write(GoI_fasta)"
   ]
  },
  {
   "cell_type": "code",
   "execution_count": null,
   "id": "bd90dc69-bcea-4fa4-98ec-97df61d53205",
   "metadata": {},
   "outputs": [],
   "source": []
  }
 ],
 "metadata": {
  "kernelspec": {
   "display_name": "Python 3 (ipykernel)",
   "language": "python",
   "name": "python3"
  },
  "language_info": {
   "codemirror_mode": {
    "name": "ipython",
    "version": 3
   },
   "file_extension": ".py",
   "mimetype": "text/x-python",
   "name": "python",
   "nbconvert_exporter": "python",
   "pygments_lexer": "ipython3",
   "version": "3.9.7"
  }
 },
 "nbformat": 4,
 "nbformat_minor": 5
}
